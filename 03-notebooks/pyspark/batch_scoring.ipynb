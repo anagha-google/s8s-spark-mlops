{
 "cells": [
  {
   "cell_type": "markdown",
   "id": "463506b1-7a4f-49ac-a131-0b5d7561164e",
   "metadata": {},
   "source": [
    "# Batch Scoring\n",
    "\n",
    "This script does batch scoring.\n",
    "1. It parses, transforms data in GCS to be scored, \n",
    "2. Loads the model in GCS,\n",
    "3. Uses the model to predict\n",
    "4. Persists predictions to BigQuery"
   ]
  },
  {
   "cell_type": "code",
   "execution_count": 1,
   "id": "edbe3069-3d05-4e94-8954-1997d6511e3f",
   "metadata": {},
   "outputs": [
    {
     "data": {
      "text/html": [
       "\n",
       "            <div>\n",
       "                <p><b>SparkSession - hive</b></p>\n",
       "                \n",
       "        <div>\n",
       "            <p><b>SparkContext</b></p>\n",
       "\n",
       "            <p><a href=\"http://gdpic-srvls-session-a4f7392b-91c6-43f2-a8de-7666310d00a8-m.us-central1-b.c.s8s-spark-ml-mlops.internal:4040\">Spark UI</a></p>\n",
       "\n",
       "            <dl>\n",
       "              <dt>Version</dt>\n",
       "                <dd><code>v3.2.1</code></dd>\n",
       "              <dt>Master</dt>\n",
       "                <dd><code>spark://gdpic-srvls-session-a4f7392b-91c6-43f2-a8de-7666310d00a8-m:7077</code></dd>\n",
       "              <dt>AppName</dt>\n",
       "                <dd><code>PySparkShell</code></dd>\n",
       "            </dl>\n",
       "        </div>\n",
       "        \n",
       "            </div>\n",
       "        "
      ],
      "text/plain": [
       "<pyspark.sql.session.SparkSession at 0x7fbe11ed7940>"
      ]
     },
     "execution_count": 1,
     "metadata": {},
     "output_type": "execute_result"
    }
   ],
   "source": [
    "spark"
   ]
  },
  {
   "cell_type": "code",
   "execution_count": 2,
   "id": "7a4fc9b1-36b2-4fd8-9765-7ad15b3d02a0",
   "metadata": {},
   "outputs": [],
   "source": [
    "from pyspark.sql import SparkSession\n",
    "from pyspark.sql.functions import *\n",
    "from pyspark.ml import PipelineModel\n",
    "import sys\n",
    "from datetime import datetime"
   ]
  },
  {
   "cell_type": "code",
   "execution_count": 3,
   "id": "684b8dbc-9ea5-4391-870e-cb32f406e7ed",
   "metadata": {},
   "outputs": [],
   "source": [
    "# 1a. Arguments\n",
    "pipelineID = \"20220813\"\n",
    "modelVersion = \"20220813\"\n",
    "projectNbr = \"974925525028\"\n",
    "projectID = \"s8s-spark-ml-mlops\"\n",
    "displayPrintStatements = True"
   ]
  },
  {
   "cell_type": "code",
   "execution_count": 4,
   "id": "c91b4bc7-4f08-4411-9b1f-540b34d7be39",
   "metadata": {},
   "outputs": [],
   "source": [
    "# 1b. Variables \n",
    "appBaseName = \"customer-churn-model\"\n",
    "appNameSuffix = \"batch-scoring\"\n",
    "appName = f\"{appBaseName}-{appNameSuffix}\"\n",
    "modelBaseNm = appBaseName\n",
    "bqDatasetNm = f\"{projectID}.customer_churn_ds\"\n",
    "modelBucketUri = f\"gs://s8s_model_bucket-{projectNbr}/{modelBaseNm}/hyperparameter-tuning/{modelVersion}\"\n",
    "scoreDatasetBucketFQN = f\"gs://s8s_data_bucket-{projectNbr}/customer_churn_score_data.csv\"\n",
    "bigQueryOutputTableFQN = f\"{bqDatasetNm}.batch_predictions\"\n",
    "scratchBucketUri = f\"s8s-spark-bucket-{projectNbr}/{appBaseName}/pipelineId-{pipelineID}/{appNameSuffix}/\"\n",
    "pipelineExecutionDt = datetime.now().strftime(\"%Y%m%d%H%M%S\")"
   ]
  },
  {
   "cell_type": "code",
   "execution_count": 5,
   "id": "67e57cbb-7585-4118-8a90-a6844182374b",
   "metadata": {},
   "outputs": [
    {
     "name": "stdout",
     "output_type": "stream",
     "text": [
      "Starting batch_scoring for Customer Churn Predictions\n",
      ".....................................................\n",
      "The datetime now is - 20220802173607\n",
      " \n",
      "INPUT-\n",
      "....pipelineID=20220813\n",
      "....modelVersion=20220813\n",
      "....projectNbr=974925525028\n",
      "....projectID=s8s-spark-ml-mlops\n",
      "....displayPrintStatements=True\n",
      " \n",
      "OUTPUT-\n",
      "....BigQuery Table=s8s-spark-ml-mlops.customer_churn_ds.batch_predictions\n",
      "SELECT * FROM s8s-spark-ml-mlops.customer_churn_ds.batch_predictions WHERE model_version='20220813' AND pipeline_id='20220813' AND pipeline_execution_dt='20220802173607' LIMIT 10\n"
     ]
    }
   ],
   "source": [
    "# 1c. Display input and output\n",
    "if displayPrintStatements:\n",
    "    print(\"Starting batch_scoring for Customer Churn Predictions\")\n",
    "    print(\".....................................................\")\n",
    "    print(f\"The datetime now is - {pipelineExecutionDt}\")\n",
    "    print(\" \")\n",
    "    print(\"INPUT-\")\n",
    "    print(f\"....pipelineID={pipelineID}\")\n",
    "    print(f\"....modelVersion={modelVersion}\")\n",
    "    print(f\"....projectNbr={projectNbr}\")\n",
    "    print(f\"....projectID={projectID}\")\n",
    "    print(f\"....displayPrintStatements={displayPrintStatements}\")\n",
    "    print(\" \")\n",
    "    print(\"OUTPUT-\")\n",
    "    print(f\"....BigQuery Table={bigQueryOutputTableFQN}\")\n",
    "    print(f\"SELECT * FROM {bigQueryOutputTableFQN} WHERE model_version='{modelVersion}' AND pipeline_id='{pipelineID}' AND pipeline_execution_dt='{pipelineExecutionDt}' LIMIT 10\" )\n",
    "    \n",
    "    "
   ]
  },
  {
   "cell_type": "code",
   "execution_count": 6,
   "id": "8822c32c-984d-42e8-acaa-1c64712c1119",
   "metadata": {},
   "outputs": [
    {
     "name": "stdout",
     "output_type": "stream",
     "text": [
      "....Initializing spark & spark configs\n"
     ]
    }
   ],
   "source": [
    "# 2. Spark Session creation\n",
    "print('....Initializing spark & spark configs')\n",
    "spark = SparkSession.builder.appName(appName).getOrCreate()\n",
    "\n",
    "# Spark configuration setting for writes to BigQuery\n",
    "spark.conf.set(\"parentProject\", projectID)\n",
    "spark.conf.set(\"temporaryGcsBucket\", scratchBucketUri)\n",
    "\n",
    "# Add Python modules\n",
    "sc.addPyFile(f\"gs://s8s_code_bucket-{projectNbr}/pyspark/common_utils.py\")\n",
    "import common_utils"
   ]
  },
  {
   "cell_type": "code",
   "execution_count": 7,
   "id": "a7259f0f-a5e6-4e5b-876d-fe08de2ba659",
   "metadata": {},
   "outputs": [
    {
     "name": "stdout",
     "output_type": "stream",
     "text": [
      "....Read batch scoring input and profile\n"
     ]
    },
    {
     "name": "stderr",
     "output_type": "stream",
     "text": [
      "                                                                                \r"
     ]
    },
    {
     "name": "stdout",
     "output_type": "stream",
     "text": [
      "411\n"
     ]
    }
   ],
   "source": [
    "# 3. Read data to be scored from GCS\n",
    "print('....Read batch scoring input and profile')\n",
    "scoreRawDF = spark.read.options(inferSchema = True, header= True).csv(scoreDatasetBucketFQN)\n",
    "if displayPrintStatements:\n",
    "    print(scoreRawDF.count())"
   ]
  },
  {
   "cell_type": "code",
   "execution_count": 8,
   "id": "925bb7db-642b-4412-b4c7-7c2ab3ff7999",
   "metadata": {},
   "outputs": [
    {
     "name": "stderr",
     "output_type": "stream",
     "text": [
      "                                                                                \r"
     ]
    },
    {
     "name": "stdout",
     "output_type": "stream",
     "text": [
      "+----------+------+-------------+-------+----------+------+------------+----------------+---------------+--------------+------------+----------------+-----------+-----------+---------------+--------------+----------------+----------------+--------------+------------+\n",
      "|customerID|gender|SeniorCitizen|Partner|Dependents|tenure|PhoneService|   MultipleLines|InternetService|OnlineSecurity|OnlineBackup|DeviceProtection|TechSupport|StreamingTV|StreamingMovies|      Contract|PaperlessBilling|   PaymentMethod|MonthlyCharges|TotalCharges|\n",
      "+----------+------+-------------+-------+----------+------+------------+----------------+---------------+--------------+------------+----------------+-----------+-----------+---------------+--------------+----------------+----------------+--------------+------------+\n",
      "|7590-VHVEG|Female|            0|    Yes|        No|     1|          No|No phone service|            DSL|            No|         Yes|              No|         No|         No|             No|Month-to-month|             Yes|Electronic check|         29.85|       29.85|\n",
      "|5575-GNVDE|  Male|            0|     No|        No|    34|         Yes|              No|            DSL|           Yes|          No|             Yes|         No|         No|             No|      One year|              No|    Mailed check|         56.95|      1889.5|\n",
      "+----------+------+-------------+-------+----------+------+------------+----------------+---------------+--------------+------------+----------------+-----------+-----------+---------------+--------------+----------------+----------------+--------------+------------+\n",
      "only showing top 2 rows\n",
      "\n"
     ]
    },
    {
     "name": "stderr",
     "output_type": "stream",
     "text": [
      "                                                                                \r"
     ]
    },
    {
     "name": "stdout",
     "output_type": "stream",
     "text": [
      "+-------+----------+------+-------------------+-------+----------+------------------+------------+-------------+---------------+--------------+------------+----------------+-----------+-----------+---------------+--------------+----------------+--------------------+------------------+------------------+\n",
      "|summary|customerID|gender|      SeniorCitizen|Partner|Dependents|            tenure|PhoneService|MultipleLines|InternetService|OnlineSecurity|OnlineBackup|DeviceProtection|TechSupport|StreamingTV|StreamingMovies|      Contract|PaperlessBilling|       PaymentMethod|    MonthlyCharges|      TotalCharges|\n",
      "+-------+----------+------+-------------------+-------+----------+------------------+------------+-------------+---------------+--------------+------------+----------------+-----------+-----------+---------------+--------------+----------------+--------------------+------------------+------------------+\n",
      "|  count|       411|   411|                411|    411|       411|               411|         411|          411|            411|           411|         411|             411|        411|        411|            411|           411|             411|                 411|               411|               411|\n",
      "|   mean|      null|  null|0.17274939172749393|   null|      null| 31.54014598540146|        null|         null|           null|          null|        null|            null|       null|       null|           null|          null|            null|                null| 65.69878345498779|2225.9396593673982|\n",
      "| stddev|      null|  null| 0.3784912061592357|   null|      null|24.382325045261428|        null|         null|           null|          null|        null|            null|       null|       null|           null|          null|            null|                null|29.663632139155514| 2181.466803031431|\n",
      "|    min|0021-IKXGC|Female|                  0|     No|        No|                 1|          No|           No|            DSL|            No|          No|              No|         No|         No|             No|Month-to-month|              No|Bank transfer (au...|             18.95|             19.15|\n",
      "|    max|9967-ATRFS|  Male|                  1|    Yes|       Yes|                72|         Yes|          Yes|             No|           Yes|         Yes|             Yes|        Yes|        Yes|            Yes|      Two year|             Yes|        Mailed check|             115.1|            8129.3|\n",
      "+-------+----------+------+-------------------+-------+----------+------------------+------------+-------------+---------------+--------------+------------+----------------+-----------+-----------+---------------+--------------+----------------+--------------------+------------------+------------------+\n",
      "\n"
     ]
    }
   ],
   "source": [
    "# 4. Display data, display summary stats\n",
    "if displayPrintStatements:\n",
    "    scoreRawDF.show(2)\n",
    "    scoreRawDF.describe().show()"
   ]
  },
  {
   "cell_type": "code",
   "execution_count": 9,
   "id": "c5f0d470-140b-498b-bd56-054aa7d9198c",
   "metadata": {},
   "outputs": [
    {
     "name": "stdout",
     "output_type": "stream",
     "text": [
      "....Data pre-process: fnReplaceSpaceWithNone in TotalCharges and MonthlyCharges\n",
      "2022-08-02 17:36:30,169 - common_utils.py - INFO - ....Inside common_utils.fnReplaceSpaceWithNone\n",
      "411\n"
     ]
    }
   ],
   "source": [
    "# 5. Replace spaces, space with null values in the TotalCharges and MonthlyCharges columns\n",
    "print('....Data pre-process: fnReplaceSpaceWithNone in TotalCharges and MonthlyCharges')\n",
    "spaceReplacedDF = common_utils.fnReplaceSpaceWithNone(scoreRawDF)\n",
    "if displayPrintStatements:\n",
    "    print(spaceReplacedDF.count())"
   ]
  },
  {
   "cell_type": "code",
   "execution_count": 10,
   "id": "51eae237-9f27-48aa-b22f-e360fee251f1",
   "metadata": {},
   "outputs": [
    {
     "name": "stdout",
     "output_type": "stream",
     "text": [
      "....Data pre-process: ReplaceNotANumberWithNone in TotalCharges and MonthlyCharges\n",
      "2022-08-02 17:36:30,776 - common_utils.py - INFO - ....Inside common_utils.fnReplaceNotANumberWithNone\n",
      "411\n"
     ]
    }
   ],
   "source": [
    "# 6. Replace non-numeric values in the TotalCharges and MonthlyCharges columns\n",
    "print('....Data pre-process: ReplaceNotANumberWithNone in TotalCharges and MonthlyCharges')\n",
    "nanReplacedDF = common_utils.fnReplaceNotANumberWithNone(spaceReplacedDF)\n",
    "if displayPrintStatements:\n",
    "    print(nanReplacedDF.count())"
   ]
  },
  {
   "cell_type": "code",
   "execution_count": 11,
   "id": "6f016816-d830-44ca-9926-c41d2409e956",
   "metadata": {},
   "outputs": [
    {
     "name": "stdout",
     "output_type": "stream",
     "text": [
      "....Data pre-process: Drop rows with none\n",
      "411\n"
     ]
    }
   ],
   "source": [
    "# 7. Drop rows with null in columns\n",
    "print('....Data pre-process: Drop rows with none')\n",
    "nullDroppedDF = nanReplacedDF.na.drop()\n",
    "\n",
    "if displayPrintStatements:\n",
    "    print(nullDroppedDF.count())"
   ]
  },
  {
   "cell_type": "code",
   "execution_count": 12,
   "id": "b2a5eff9-7ab0-46a3-bd80-8794582c50ee",
   "metadata": {},
   "outputs": [
    {
     "name": "stdout",
     "output_type": "stream",
     "text": [
      "....Data pre-process: Replace -No internet service- across columns with -No-\n",
      "2022-08-02 17:36:32,332 - common_utils.py - INFO - ....Inside common_utils.fnReplaceWithNoForInternetService\n",
      "411\n"
     ]
    }
   ],
   "source": [
    "# 8. Replace 'No internet service' across columns to 'No'\n",
    "print('....Data pre-process: Replace -No internet service- across columns with -No-')\n",
    "partiallyProcessedDF = common_utils.fnReplaceWithNoForInternetService(nullDroppedDF)\n",
    "if displayPrintStatements:\n",
    "    print(partiallyProcessedDF.count())"
   ]
  },
  {
   "cell_type": "code",
   "execution_count": 13,
   "id": "67583d3b-fd56-45c2-b7da-16158d11a3af",
   "metadata": {},
   "outputs": [
    {
     "name": "stdout",
     "output_type": "stream",
     "text": [
      "....Data pre-process: Replace -No internet service- across columns with -No-\n",
      "2022-08-02 17:36:32,955 - common_utils.py - INFO - ....Inside common_utils.fnAddBinForTenure\n",
      "411\n"
     ]
    },
    {
     "name": "stderr",
     "output_type": "stream",
     "text": [
      "[Stage 27:>                                                         (0 + 1) / 1]\r"
     ]
    },
    {
     "name": "stdout",
     "output_type": "stream",
     "text": [
      "+----------+------+-------------+-------+----------+------+------------+------------+-------------+---------------+--------------+------------+----------------+-----------+-----------+---------------+--------+----------------+--------------------+--------------+------------+\n",
      "|CustomerID|Gender|SeniorCitizen|Partner|Dependents|Tenure|Tenure_Group|PhoneService|MultipleLines|InternetService|OnlineSecurity|OnlineBackup|DeviceProtection|TechSupport|StreamingTV|StreamingMovies|Contract|PaperlessBilling|       PaymentMethod|MonthlyCharges|TotalCharges|\n",
      "+----------+------+-------------+-------+----------+------+------------+------------+-------------+---------------+--------------+------------+----------------+-----------+-----------+---------------+--------+----------------+--------------------+--------------+------------+\n",
      "|5027-YOCXN|  Male|            0|    Yes|       Yes|    51|Tenure_48-60|         Yes|          Yes|    Fiber optic|           Yes|         Yes|              No|        Yes|        Yes|            Yes|One year|              No|Credit card (auto...|        110.05|      5686.4|\n",
      "|0945-TSONX|Female|            0|    Yes|       Yes|    47|Tenure_24-48|         Yes|          Yes|            DSL|           Yes|         Yes|              No|        Yes|        Yes|            Yes|Two year|             Yes|Credit card (auto...|          85.3|     4107.25|\n",
      "+----------+------+-------------+-------+----------+------+------------+------------+-------------+---------------+--------------+------------+----------------+-----------+-----------+---------------+--------+----------------+--------------------+--------------+------------+\n",
      "only showing top 2 rows\n",
      "\n"
     ]
    },
    {
     "name": "stderr",
     "output_type": "stream",
     "text": [
      "                                                                                \r"
     ]
    }
   ],
   "source": [
    "# 9. Add a bin/bucket category for tenure range using Spark SQL and write transformed to dataframe\n",
    "print('....Data pre-process: Replace -No internet service- across columns with -No-') \n",
    "scoreTargetDF = common_utils.fnAddBinForTenure(partiallyProcessedDF, True, spark)\n",
    "if displayPrintStatements:\n",
    "    print(scoreTargetDF.count())\n",
    "    scoreTargetDF.show(2)                            "
   ]
  },
  {
   "cell_type": "code",
   "execution_count": 14,
   "id": "4893d9f1-33dc-434f-b3b6-49c512d3ea84",
   "metadata": {},
   "outputs": [
    {
     "name": "stdout",
     "output_type": "stream",
     "text": [
      "411\n",
      "+-----------+------+--------------+-------+----------+------+------------+-------------+--------------+----------------+---------------+-------------+-----------------+------------+------------+----------------+--------+-----------------+--------------------+---------------+-------------+\n",
      "|customer_id|gender|senior_citizen|partner|dependents|tenure|tenure_group|phone_service|multiple_lines|internet_service|online_security|online_backup|device_protection|tech_support|streaming_tv|streaming_movies|contract|paperless_billing|      payment_method|monthly_charges|total_charges|\n",
      "+-----------+------+--------------+-------+----------+------+------------+-------------+--------------+----------------+---------------+-------------+-----------------+------------+------------+----------------+--------+-----------------+--------------------+---------------+-------------+\n",
      "| 5027-YOCXN|  Male|             0|    Yes|       Yes|    51|Tenure_48-60|          Yes|           Yes|     Fiber optic|            Yes|          Yes|               No|         Yes|         Yes|             Yes|One year|               No|Credit card (auto...|         110.05|       5686.4|\n",
      "| 0945-TSONX|Female|             0|    Yes|       Yes|    47|Tenure_24-48|          Yes|           Yes|             DSL|            Yes|          Yes|               No|         Yes|         Yes|             Yes|Two year|              Yes|Credit card (auto...|           85.3|      4107.25|\n",
      "+-----------+------+--------------+-------+----------+------+------------+-------------+--------------+----------------+---------------+-------------+-----------------+------------+------------+----------------+--------+-----------------+--------------------+---------------+-------------+\n",
      "only showing top 2 rows\n",
      "\n"
     ]
    }
   ],
   "source": [
    "# 10. Format dataframe names for column name format consistency\n",
    "scorableDF = scoreTargetDF.select(\"customerID\", \"gender\", \"SeniorCitizen\", \"Partner\", \"Dependents\", \"tenure\", \"Tenure_Group\", \"PhoneService\", \"MultipleLines\", \"InternetService\", \"OnlineSecurity\", \"OnlineBackup\", \"DeviceProtection\", \"TechSupport\", \"StreamingTV\", \"StreamingMovies\", \"Contract\", \"PaperlessBilling\", \"PaymentMethod\", \"MonthlyCharges\", \"TotalCharges\") \\\n",
    "                                .toDF(\"customer_id\", \"gender\", \"senior_citizen\", \"partner\", \"dependents\", \"tenure\", \"tenure_group\", \"phone_service\", \"multiple_lines\", \"internet_service\", \"online_security\", \"online_backup\", \"device_protection\", \"tech_support\", \"streaming_tv\", \"streaming_movies\", \"contract\", \"paperless_billing\", \"payment_method\", \"monthly_charges\", \"total_charges\") \n",
    "\n",
    "if displayPrintStatements:\n",
    "    print(scorableDF.count())\n",
    "    scorableDF.show(2)"
   ]
  },
  {
   "cell_type": "code",
   "execution_count": 15,
   "id": "da8316cb-0df2-4667-98a8-60c4a1428f6e",
   "metadata": {},
   "outputs": [
    {
     "name": "stdout",
     "output_type": "stream",
     "text": [
      "....Scoring: Load model out of GCS into memory\n"
     ]
    },
    {
     "name": "stderr",
     "output_type": "stream",
     "text": [
      "                                                                                \r"
     ]
    }
   ],
   "source": [
    "# 11. Load the pre-trained, persisted model in GCS\n",
    "print('....Scoring: Load model out of GCS into memory') \n",
    "model = PipelineModel.load(f\"{modelBucketUri}/bestModel/\")"
   ]
  },
  {
   "cell_type": "code",
   "execution_count": 16,
   "id": "8e36f456-7bea-4b77-b7c2-534e6be5379c",
   "metadata": {},
   "outputs": [
    {
     "name": "stdout",
     "output_type": "stream",
     "text": [
      "....Scoring: Execute model.transform\n"
     ]
    },
    {
     "name": "stderr",
     "output_type": "stream",
     "text": [
      "22/08/02 17:37:15 WARN StringIndexerModel: Input column churn does not exist during transformation. Skip StringIndexerModel for this column.\n",
      "22/08/02 17:37:15 WARN package: Truncated the string representation of a plan since it was too large. This behavior can be adjusted by setting 'spark.sql.debug.maxToStringFields'.\n",
      "[Stage 186:>                                                        (0 + 1) / 1]\r"
     ]
    },
    {
     "name": "stdout",
     "output_type": "stream",
     "text": [
      "+-----------+------+--------------+-------+----------+------+------------+-------------+--------------+----------------+---------------+-------------+-----------------+------------+------------+----------------+--------+-----------------+--------------------+---------------+-------------+-----------+--------------+-------------------+----------------------+------------+---------------+---------------+------------------+------------------+---------------------+-------------------+----------------------+---------------------+------------------------+--------------------+-----------------------+------------------+---------------------+----------------------+-------------------------+-----------------+--------------------+-----------------+--------------------+---------------------+------------------------+-------------+----------------+----------------------+-------------------------+-------------------+----------------------+--------------------+--------------------+--------------------+----------+-------------+-----------+---------------------+\n",
      "|customer_id|gender|senior_citizen|partner|dependents|tenure|tenure_group|phone_service|multiple_lines|internet_service|online_security|online_backup|device_protection|tech_support|streaming_tv|streaming_movies|contract|paperless_billing|      payment_method|monthly_charges|total_charges|genderIndex|genderclassVec|senior_citizenIndex|senior_citizenclassVec|partnerIndex|partnerclassVec|dependentsIndex|dependentsclassVec|phone_serviceIndex|phone_serviceclassVec|multiple_linesIndex|multiple_linesclassVec|internet_serviceIndex|internet_serviceclassVec|online_securityIndex|online_securityclassVec|online_backupIndex|online_backupclassVec|device_protectionIndex|device_protectionclassVec|tech_supportIndex|tech_supportclassVec|streaming_tvIndex|streaming_tvclassVec|streaming_moviesIndex|streaming_moviesclassVec|contractIndex|contractclassVec|paperless_billingIndex|paperless_billingclassVec|payment_methodIndex|payment_methodclassVec|            features|       rawPrediction|         probability|prediction|model_version|pipeline_id|pipeline_execution_dt|\n",
      "+-----------+------+--------------+-------+----------+------+------------+-------------+--------------+----------------+---------------+-------------+-----------------+------------+------------+----------------+--------+-----------------+--------------------+---------------+-------------+-----------+--------------+-------------------+----------------------+------------+---------------+---------------+------------------+------------------+---------------------+-------------------+----------------------+---------------------+------------------------+--------------------+-----------------------+------------------+---------------------+----------------------+-------------------------+-----------------+--------------------+-----------------+--------------------+---------------------+------------------------+-------------+----------------+----------------------+-------------------------+-------------------+----------------------+--------------------+--------------------+--------------------+----------+-------------+-----------+---------------------+\n",
      "| 5027-YOCXN|  Male|             0|    Yes|       Yes|    51|Tenure_48-60|          Yes|           Yes|     Fiber optic|            Yes|          Yes|               No|         Yes|         Yes|             Yes|One year|               No|Credit card (auto...|         110.05|       5686.4|        0.0| (1,[0],[1.0])|                0.0|         (1,[0],[1.0])|         1.0|      (1,[],[])|            1.0|         (1,[],[])|               0.0|        (1,[0],[1.0])|                1.0|         (2,[1],[1.0])|                  0.0|           (2,[0],[1.0])|                 1.0|              (1,[],[])|               1.0|            (1,[],[])|                   0.0|            (1,[0],[1.0])|              1.0|           (1,[],[])|              1.0|           (1,[],[])|                  1.0|               (1,[],[])|          2.0|       (2,[],[])|                   1.0|                (1,[],[])|                2.0|         (3,[2],[1.0])|(23,[0,1,2,3,6,8,...|[25.1303127439921...|[0.83767709146640...|       0.0|     20220813|   20220813|       20220802173607|\n",
      "| 0945-TSONX|Female|             0|    Yes|       Yes|    47|Tenure_24-48|          Yes|           Yes|             DSL|            Yes|          Yes|               No|         Yes|         Yes|             Yes|Two year|              Yes|Credit card (auto...|           85.3|      4107.25|        1.0|     (1,[],[])|                0.0|         (1,[0],[1.0])|         1.0|      (1,[],[])|            1.0|         (1,[],[])|               0.0|        (1,[0],[1.0])|                1.0|         (2,[1],[1.0])|                  1.0|           (2,[1],[1.0])|                 1.0|              (1,[],[])|               1.0|            (1,[],[])|                   0.0|            (1,[0],[1.0])|              1.0|           (1,[],[])|              1.0|           (1,[],[])|                  1.0|               (1,[],[])|          1.0|   (2,[1],[1.0])|                   0.0|            (1,[0],[1.0])|                2.0|         (3,[2],[1.0])|(23,[0,1,3,6,8,10...|[28.1475920530568...|[0.93825306843522...|       0.0|     20220813|   20220813|       20220802173607|\n",
      "+-----------+------+--------------+-------+----------+------+------------+-------------+--------------+----------------+---------------+-------------+-----------------+------------+------------+----------------+--------+-----------------+--------------------+---------------+-------------+-----------+--------------+-------------------+----------------------+------------+---------------+---------------+------------------+------------------+---------------------+-------------------+----------------------+---------------------+------------------------+--------------------+-----------------------+------------------+---------------------+----------------------+-------------------------+-----------------+--------------------+-----------------+--------------------+---------------------+------------------------+-------------+----------------+----------------------+-------------------------+-------------------+----------------------+--------------------+--------------------+--------------------+----------+-------------+-----------+---------------------+\n",
      "only showing top 2 rows\n",
      "\n"
     ]
    },
    {
     "name": "stderr",
     "output_type": "stream",
     "text": [
      "                                                                                \r"
     ]
    }
   ],
   "source": [
    "# 12. Batch scoring\n",
    "print('....Scoring: Execute model.transform') \n",
    "batchScoreResultsDF = model.transform(scorableDF) \\\n",
    "                           .withColumn(\"model_version\", lit(modelVersion)) \\\n",
    "                           .withColumn(\"pipeline_id\", lit(pipelineID)) \\\n",
    "                           .withColumn(\"pipeline_execution_dt\", lit(pipelineExecutionDt)) \n",
    "\n",
    "if displayPrintStatements:\n",
    "    batchScoreResultsDF.show(2)"
   ]
  },
  {
   "cell_type": "code",
   "execution_count": 17,
   "id": "e475788b-62ca-4f4d-bf6f-b1c1330f3cd6",
   "metadata": {},
   "outputs": [
    {
     "name": "stdout",
     "output_type": "stream",
     "text": [
      "....Persisting: Batch scoring results to BigQuery\n"
     ]
    },
    {
     "name": "stderr",
     "output_type": "stream",
     "text": [
      "                                                                                \r"
     ]
    }
   ],
   "source": [
    "# 13. Persist to BigQuery\n",
    "print('....Persisting: Batch scoring results to BigQuery')\n",
    "batchScoreResultsDF.select(\"customer_id\", \"gender\", \"senior_citizen\", \"partner\", \"dependents\", \"tenure\", \"tenure_group\", \"phone_service\", \"multiple_lines\", \"internet_service\", \"online_security\", \"online_backup\", \"device_protection\", \"tech_support\", \"streaming_tv\", \"streaming_movies\", \"contract\", \"paperless_billing\", \"payment_method\", \"monthly_charges\", \"total_charges\",\"prediction\",\"model_version\",\"pipeline_id\",\"pipeline_execution_dt\") \\\n",
    ".write.format('bigquery') \\\n",
    ".mode(\"overwrite\")\\\n",
    ".option('table', bigQueryOutputTableFQN) \\\n",
    ".save()\n"
   ]
  }
 ],
 "metadata": {
  "language_info": {
   "codemirror_mode": {
    "name": "ipython",
    "version": 3
   },
   "file_extension": ".py",
   "mimetype": "text/x-python",
   "name": "python",
   "nbconvert_exporter": "python",
   "pygments_lexer": "ipython3",
   "version": "3.9.13"
  },
  "serverless_spark": "{\"name\":\"projects/s8s-spark-ml-mlops/locations/us-central1/sessions/gaia-2\",\"uuid\":\"a4f7392b-91c6-43f2-a8de-7666310d00a8\",\"createTime\":\"2022-08-02T16:50:41.238350Z\",\"jupyterSession\":{},\"spark\":{},\"runtimeInfo\":{},\"state\":\"ACTIVE\",\"stateTime\":\"2022-08-02T16:51:31.808543Z\",\"creator\":\"s8s-lab-sa@s8s-spark-ml-mlops.iam.gserviceaccount.com\",\"runtimeConfig\":{\"containerImage\":\"gcr.io/s8s-spark-ml-mlops/dataproc_serverless_custom_runtime:1.0.3\",\"properties\":{\"spark:spark.executor.instances\":\"2\",\"spark:spark.driver.cores\":\"4\",\"spark:spark.executor.cores\":\"4\",\"spark:spark.eventLog.dir\":\"gs://s8s-sphs-974925525028/a4f7392b-91c6-43f2-a8de-7666310d00a8/spark-job-history\"}},\"environmentConfig\":{\"executionConfig\":{\"serviceAccount\":\"s8s-lab-sa@s8s-spark-ml-mlops.iam.gserviceaccount.com\",\"subnetworkUri\":\"https://www.googleapis.com/compute/v1/projects/s8s-spark-ml-mlops/regions/us-central1/subnetworks/spark-snet\"},\"peripheralsConfig\":{\"sparkHistoryServerConfig\":{\"dataprocCluster\":\"projects/s8s-spark-ml-mlops/regions/us-central1/clusters/s8s-sphs-974925525028\"}}},\"stateHistory\":[{\"state\":\"CREATING\",\"stateStartTime\":\"2022-08-02T16:50:41.238350Z\"}]}",
  "serverless_spark_kernel_name": "remote-b2e9671c5b3517283d5063a6-pyspark"
 },
 "nbformat": 4,
 "nbformat_minor": 5
}
